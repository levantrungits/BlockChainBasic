{
 "cells": [
  {
   "cell_type": "code",
   "execution_count": 1,
   "metadata": {},
   "outputs": [
    {
     "name": "stdout",
     "output_type": "stream",
     "text": [
      "Lê Văn Trung\n",
      "Decorator has been used.\n"
     ]
    }
   ],
   "source": [
    "# Decorator Input is a function and Return a function\n",
    "# Function Decorator\n",
    "def first_decorator(f):\n",
    "    def wrap():\n",
    "        return f() + \"\\nDecorator has been used.\"\n",
    "    return wrap\n",
    "\n",
    "@first_decorator\n",
    "def author_of_trunglv():\n",
    "    return \"Lê Văn Trung\"\n",
    "\n",
    "a = author_of_trunglv()\n",
    "print(a)"
   ]
  },
  {
   "cell_type": "code",
   "execution_count": 2,
   "metadata": {},
   "outputs": [
    {
     "name": "stdout",
     "output_type": "stream",
     "text": [
      "Hello, Le\n",
      "Hello, Van\n",
      "Hello, Trung\n"
     ]
    },
    {
     "data": {
      "text/plain": [
       "3"
      ]
     },
     "execution_count": 2,
     "metadata": {},
     "output_type": "execute_result"
    }
   ],
   "source": [
    "# Class Decorator\n",
    "class ClassCount:\n",
    "    def __init__(self, f):\n",
    "        self.f = f\n",
    "        self.count = 0\n",
    "        \n",
    "    def __call__(self, *args, **kwargs):\n",
    "        self.count += 1\n",
    "        return self.f(*args, **kwargs)\n",
    "    \n",
    "@ClassCount\n",
    "def hello(name):\n",
    "    print(\"Hello, {}\".format(name))\n",
    "    \n",
    "hello(\"Le\")\n",
    "hello(\"Van\")\n",
    "hello(\"Trung\")\n",
    "hello.count"
   ]
  },
  {
   "cell_type": "code",
   "execution_count": 3,
   "metadata": {},
   "outputs": [
    {
     "name": "stdout",
     "output_type": "stream",
     "text": [
      "Calling <function generator_random at 0x07BF64F8>\n",
      "4976\n",
      "Calling <function generator_random at 0x07BF64F8>\n",
      "79232\n",
      "Calling <function generator_random at 0x07BF64F8>\n",
      "59132\n"
     ]
    }
   ],
   "source": [
    "# Instance Decorator\n",
    "class Trace:\n",
    "    def __init__(self):\n",
    "        self.enabled = True\n",
    "        \n",
    "    def __call__(self, f):\n",
    "        def wrap(*args, **kwargs):\n",
    "            if self.enabled:\n",
    "                print(\"Calling {}\".format(f))\n",
    "            return f(*args, **kwargs)\n",
    "        return wrap\n",
    "    \n",
    "tracer = Trace()\n",
    "\n",
    "@tracer\n",
    "def generator_random():\n",
    "    from random import randint\n",
    "    return randint(0, 100000)\n",
    "\n",
    "print(generator_random())\n",
    "print(generator_random())\n",
    "print(generator_random())"
   ]
  },
  {
   "cell_type": "code",
   "execution_count": 4,
   "metadata": {},
   "outputs": [
    {
     "name": "stdout",
     "output_type": "stream",
     "text": [
      "81201\n",
      "97006\n",
      "78969\n"
     ]
    }
   ],
   "source": [
    "new_tracer = Trace()\n",
    "new_tracer.enabled = False\n",
    "@new_tracer\n",
    "def generator_random():\n",
    "    from random import randint\n",
    "    return randint(0, 100000)\n",
    "\n",
    "print(generator_random())\n",
    "print(generator_random())\n",
    "print(generator_random())"
   ]
  },
  {
   "cell_type": "code",
   "execution_count": 5,
   "metadata": {},
   "outputs": [
    {
     "name": "stdout",
     "output_type": "stream",
     "text": [
      "Calling <function CityMaker.add_city at 0x009CF108>\n",
      "Ha Long city\n"
     ]
    }
   ],
   "source": [
    "# Methods Decorator\n",
    "class CityMaker:\n",
    "    def __init__(self, suffix):\n",
    "        self.suffix = suffix\n",
    "        \n",
    "    @tracer\n",
    "    def add_city(self, name):\n",
    "        print(name + self.suffix)\n",
    "        \n",
    "a = CityMaker(\" city\")\n",
    "a.add_city(\"Ha Long\")"
   ]
  },
  {
   "cell_type": "code",
   "execution_count": 8,
   "metadata": {},
   "outputs": [
    {
     "name": "stdout",
     "output_type": "stream",
     "text": [
      "Calling <function add_city.<locals>.wrap at 0x07BF6108>\n"
     ]
    },
    {
     "data": {
      "text/plain": [
       "'Ha Long city'"
      ]
     },
     "execution_count": 8,
     "metadata": {},
     "output_type": "execute_result"
    }
   ],
   "source": [
    "# Multiple decorator\n",
    "class Trace:\n",
    "    def __init__(self):\n",
    "        self.enabled = True\n",
    "        \n",
    "    def __call__(self, f):\n",
    "        def wrap(*args, **kwargs):\n",
    "            if self.enabled:\n",
    "                print(\"Calling {}\".format(f))\n",
    "            return f(*args, **kwargs)\n",
    "        return wrap\n",
    "    \n",
    "tracer = Trace()\n",
    "\n",
    "def add_city(f):\n",
    "    def wrap(*args, **kwargs):\n",
    "        x = f(*args, **kwargs)\n",
    "        return x + \" city\"\n",
    "    return wrap\n",
    "\n",
    "@tracer\n",
    "@add_city\n",
    "def home_town(city):\n",
    "    return city\n",
    "\n",
    "home_town(\"Ha Long\")"
   ]
  },
  {
   "cell_type": "code",
   "execution_count": 9,
   "metadata": {},
   "outputs": [
    {
     "name": "stdout",
     "output_type": "stream",
     "text": [
      "say_oh_yeah\n",
      "Say M-TP's famous quote\n"
     ]
    }
   ],
   "source": [
    "# functools.wraps để bảo toàn metadata\n",
    "def say_oh_yeah():\n",
    "    \"\"\"Say M-TP's famous quote\"\"\"\n",
    "    return \"Oh Yeah!\"\n",
    "\n",
    "print(say_oh_yeah.__name__)\n",
    "print(say_oh_yeah.__doc__)"
   ]
  },
  {
   "cell_type": "code",
   "execution_count": 10,
   "metadata": {},
   "outputs": [
    {
     "name": "stdout",
     "output_type": "stream",
     "text": [
      "wrapper\n",
      "A wrapper\n"
     ]
    }
   ],
   "source": [
    "def dec(f):\n",
    "    \"\"\"A decorator\"\"\"\n",
    "    def wrapper():\n",
    "        \"\"\"A wrapper\"\"\"\n",
    "        return f\n",
    "    return wrapper\n",
    "\n",
    "@dec\n",
    "def say_oh_yeah():\n",
    "    \"\"\"Say M-TP's famous quote\"\"\"\n",
    "    return \"Oh Yeah!\"\n",
    "\n",
    "print(say_oh_yeah.__name__)\n",
    "print(say_oh_yeah.__doc__)"
   ]
  },
  {
   "cell_type": "code",
   "execution_count": 16,
   "metadata": {},
   "outputs": [
    {
     "name": "stdout",
     "output_type": "stream",
     "text": [
      "say_oh_yeah\n",
      "Say M-TP's famous quote\n"
     ]
    }
   ],
   "source": [
    "# resolved an toàn metadata\n",
    "import functools\n",
    "\n",
    "def dec(f):\n",
    "    \"\"\"A decorator\"\"\"\n",
    "    @functools.wraps(f)\n",
    "    def wrapper():\n",
    "        \"\"\"A wrapper\"\"\"\n",
    "        return f\n",
    "    return wrapper\n",
    "\n",
    "@dec\n",
    "def say_oh_yeah():\n",
    "    \"\"\"Say M-TP's famous quote\"\"\"\n",
    "    return \"Oh Yeah!\"\n",
    "\n",
    "print(say_oh_yeah.__name__)\n",
    "print(say_oh_yeah.__doc__)"
   ]
  },
  {
   "cell_type": "code",
   "execution_count": 18,
   "metadata": {},
   "outputs": [],
   "source": [
    "# Check Parameters Decorator\n",
    "def check_non_negative(index):\n",
    "    def validator(f):\n",
    "        def wrap(*args):\n",
    "            if args[index] < 0:\n",
    "                raise ValueError(\"Argument {} must be none-negative\".format(index))\n",
    "            return f(*args)\n",
    "        return wrap\n",
    "    return validator\n",
    "\n",
    "@check_non_negative(1)\n",
    "def create_list(value, size):\n",
    "    return [value] * size"
   ]
  },
  {
   "cell_type": "code",
   "execution_count": 19,
   "metadata": {},
   "outputs": [
    {
     "data": {
      "text/plain": [
       "['a', 'a', 'a', 'a', 'a', 'a', 'a', 'a', 'a', 'a']"
      ]
     },
     "execution_count": 19,
     "metadata": {},
     "output_type": "execute_result"
    }
   ],
   "source": [
    "create_list('a', 10)"
   ]
  },
  {
   "cell_type": "code",
   "execution_count": 20,
   "metadata": {},
   "outputs": [
    {
     "data": {
      "text/plain": [
       "[]"
      ]
     },
     "execution_count": 20,
     "metadata": {},
     "output_type": "execute_result"
    }
   ],
   "source": [
    "create_list('Trung', 0)"
   ]
  },
  {
   "cell_type": "code",
   "execution_count": 21,
   "metadata": {},
   "outputs": [
    {
     "ename": "ValueError",
     "evalue": "Argument 1 must be none-negative",
     "output_type": "error",
     "traceback": [
      "\u001b[1;31m---------------------------------------------------------------------------\u001b[0m",
      "\u001b[1;31mValueError\u001b[0m                                Traceback (most recent call last)",
      "\u001b[1;32m<ipython-input-21-e554f037983a>\u001b[0m in \u001b[0;36m<module>\u001b[1;34m()\u001b[0m\n\u001b[1;32m----> 1\u001b[1;33m \u001b[0mcreate_list\u001b[0m\u001b[1;33m(\u001b[0m\u001b[1;34m\"M-TP\"\u001b[0m\u001b[1;33m,\u001b[0m \u001b[1;33m-\u001b[0m\u001b[1;36m3\u001b[0m\u001b[1;33m)\u001b[0m\u001b[1;33m\u001b[0m\u001b[0m\n\u001b[0m",
      "\u001b[1;32m<ipython-input-18-2da97c3a8816>\u001b[0m in \u001b[0;36mwrap\u001b[1;34m(*args)\u001b[0m\n\u001b[0;32m      4\u001b[0m         \u001b[1;32mdef\u001b[0m \u001b[0mwrap\u001b[0m\u001b[1;33m(\u001b[0m\u001b[1;33m*\u001b[0m\u001b[0margs\u001b[0m\u001b[1;33m)\u001b[0m\u001b[1;33m:\u001b[0m\u001b[1;33m\u001b[0m\u001b[0m\n\u001b[0;32m      5\u001b[0m             \u001b[1;32mif\u001b[0m \u001b[0margs\u001b[0m\u001b[1;33m[\u001b[0m\u001b[0mindex\u001b[0m\u001b[1;33m]\u001b[0m \u001b[1;33m<\u001b[0m \u001b[1;36m0\u001b[0m\u001b[1;33m:\u001b[0m\u001b[1;33m\u001b[0m\u001b[0m\n\u001b[1;32m----> 6\u001b[1;33m                 \u001b[1;32mraise\u001b[0m \u001b[0mValueError\u001b[0m\u001b[1;33m(\u001b[0m\u001b[1;34m\"Argument {} must be none-negative\"\u001b[0m\u001b[1;33m.\u001b[0m\u001b[0mformat\u001b[0m\u001b[1;33m(\u001b[0m\u001b[0mindex\u001b[0m\u001b[1;33m)\u001b[0m\u001b[1;33m)\u001b[0m\u001b[1;33m\u001b[0m\u001b[0m\n\u001b[0m\u001b[0;32m      7\u001b[0m             \u001b[1;32mreturn\u001b[0m \u001b[0mf\u001b[0m\u001b[1;33m(\u001b[0m\u001b[1;33m*\u001b[0m\u001b[0margs\u001b[0m\u001b[1;33m)\u001b[0m\u001b[1;33m\u001b[0m\u001b[0m\n\u001b[0;32m      8\u001b[0m         \u001b[1;32mreturn\u001b[0m \u001b[0mwrap\u001b[0m\u001b[1;33m\u001b[0m\u001b[0m\n",
      "\u001b[1;31mValueError\u001b[0m: Argument 1 must be none-negative"
     ]
    }
   ],
   "source": [
    "create_list(\"M-TP\", -3)"
   ]
  },
  {
   "cell_type": "code",
   "execution_count": null,
   "metadata": {},
   "outputs": [],
   "source": []
  }
 ],
 "metadata": {
  "kernelspec": {
   "display_name": "Python 3",
   "language": "python",
   "name": "python3"
  },
  "language_info": {
   "codemirror_mode": {
    "name": "ipython",
    "version": 3
   },
   "file_extension": ".py",
   "mimetype": "text/x-python",
   "name": "python",
   "nbconvert_exporter": "python",
   "pygments_lexer": "ipython3",
   "version": "3.6.4"
  }
 },
 "nbformat": 4,
 "nbformat_minor": 2
}
