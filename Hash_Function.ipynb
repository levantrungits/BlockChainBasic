{
 "cells": [
  {
   "cell_type": "code",
   "execution_count": 3,
   "metadata": {},
   "outputs": [],
   "source": [
    "# Sha256 - Bitcoin\n",
    "import hashlib"
   ]
  },
  {
   "cell_type": "code",
   "execution_count": 4,
   "metadata": {},
   "outputs": [
    {
     "name": "stdout",
     "output_type": "stream",
     "text": [
      "e1d57033a26c3ccdb041f4ce4de3513f423f97647f48958a122dc2fd21380737\n"
     ]
    }
   ],
   "source": [
    "print(hashlib.sha256(\"I am levantrungits\".encode(\"utf-8\")).hexdigest())"
   ]
  },
  {
   "cell_type": "code",
   "execution_count": 5,
   "metadata": {},
   "outputs": [
    {
     "name": "stdout",
     "output_type": "stream",
     "text": [
      "I am levantrungits0  ; 3f6691c66cf5b99ca05b1c07bc3a26284cc4f0a1cca19915b4998145b38931de\n",
      "I am levantrungits1  ; 8de96c08e82e45dae06d4bacaa81c5d9a09d3b6cf1f4f612540d97925dac201a\n",
      "I am levantrungits2  ; 1f96489317e62c7f4d63bef65bab315a73f232f53582cfe7fd364fb8b8fa9980\n",
      "I am levantrungits3  ; caa116045408a0efdf5ab25c30578fd51f87138ebf01c98b4f225d846bb89bce\n",
      "I am levantrungits4  ; 1927786ebfc1b39df97f9c4a6e91085d2d915e41a4b5fe50a88004db999b1e25\n",
      "I am levantrungits5  ; 2d6cff24015d315984a5eabbdaad449c4e8f8b3eb1031cf2227bf5a12f852c49\n",
      "I am levantrungits6  ; 63d04959740f4162e5723e63944c5f1c900ac1d1b57622c1d246f39415ffff72\n",
      "I am levantrungits7  ; 76d9d0a5ed3024c8c4389cddd7355ee6d4ca71c2abfefb1757d9e6294525ceeb\n",
      "I am levantrungits8  ; 0e534870148633fb0bb51b52d03ae778c115bd5cd9e99c2b981bdd6ddbb40806\n",
      "I am levantrungits9  ; f293b8afbc93e400d4bb72fc2997c363a5f3a12a51b768bd2836293ce3e39406\n",
      "I am levantrungits10  ; ed29e3444aafc88d0396f521238ffaba9de8b2b0a87ffb2ca393400c2ba20a56\n",
      "I am levantrungits11  ; b146d0c0c11255b1fe6362cdc62e8ea3a5629a09fce82ea72a6b211658fc35ad\n",
      "I am levantrungits12  ; 2556ffe1ab2e5c75594a0ca5ea649d03dfdf99eb429d0b5799a4cd86707f6c79\n",
      "I am levantrungits13  ; 100f9dd724dd3a05284c0dff74329aba49ce2952a381dd66785a4a3967246a5d\n",
      "I am levantrungits14  ; 74a99927fdd87ddf0d09e8378b47f8fba351614b34e1ad082d70109732933724\n",
      "I am levantrungits15  ; 8dbd6b7fff2589607f515608db00b812ab432f3e89502edf4719d2ba26a1df9c\n",
      "I am levantrungits16  ; ec99236187370619ccdf8b524ee9199f52cbebe601c2f876b54b9527b7dc2c49\n",
      "I am levantrungits17  ; b5d3fe1ef0170d800e61691dab167ebf611dc912ff4e8a9fc602c8562fc23235\n",
      "I am levantrungits18  ; 0a8e6c7a1e2774cc0adff25b42065e977ea71b7dc459e928b7cf5ffdcd4130bf\n",
      "I am levantrungits19  ; bafe7a8be8b29a884482889b42b1940f4af01384ce3fb7dfa4759e361dc2fa0c\n"
     ]
    }
   ],
   "source": [
    "# example of iterating a nonce in a hashing algorithm's input\n",
    "text = \"I am levantrungits\"\n",
    "# interate nonce from 0 to 19\n",
    "for nonce in range(20):\n",
    "    # add the nonce to the end of the text\n",
    "    input = text + str(nonce)\n",
    "    # calculate the SHA-256 hash of the input (text + nonce)\n",
    "    hash = hashlib.sha256(input.encode(\"utf-8\")).hexdigest()\n",
    "    # show the input and hash result\n",
    "    print(input, \" ;\", hash)"
   ]
  },
  {
   "cell_type": "code",
   "execution_count": 6,
   "metadata": {},
   "outputs": [],
   "source": [
    "# With Ethereum, used  the newer hash function KECCAK-256 : faster and better security"
   ]
  },
  {
   "cell_type": "code",
   "execution_count": 13,
   "metadata": {},
   "outputs": [
    {
     "name": "stdout",
     "output_type": "stream",
     "text": [
      "b7f7ddffcf961ee7091f8955b4acca66c6a279fb92125a3ee233660e6fa2fd7c\n"
     ]
    }
   ],
   "source": [
    "# pip3 install pycryptodome\n",
    "from Crypto.Hash import keccak\n",
    "keccak_hash = keccak.new(digest_bits=256)\n",
    "keccak_hash.update(\"I am levantrungits\".encode(\"utf-8\"))\n",
    "print(keccak_hash.hexdigest())"
   ]
  },
  {
   "cell_type": "code",
   "execution_count": 12,
   "metadata": {},
   "outputs": [
    {
     "name": "stdout",
     "output_type": "stream",
     "text": [
      "b7f7ddffcf961ee7091f8955b4acca66c6a279fb92125a3ee233660e6fa2fd7c\n"
     ]
    }
   ],
   "source": [
    "k = sha3.keccak_256()\n",
    "k.update(\"I am levantrungits\".encode(\"utf-8\"))\n"
   ]
  },
  {
   "cell_type": "code",
   "execution_count": null,
   "metadata": {},
   "outputs": [],
   "source": []
  }
 ],
 "metadata": {
  "kernelspec": {
   "display_name": "Python 3",
   "language": "python",
   "name": "python3"
  },
  "language_info": {
   "codemirror_mode": {
    "name": "ipython",
    "version": 3
   },
   "file_extension": ".py",
   "mimetype": "text/x-python",
   "name": "python",
   "nbconvert_exporter": "python",
   "pygments_lexer": "ipython3",
   "version": "3.6.4"
  }
 },
 "nbformat": 4,
 "nbformat_minor": 2
}
